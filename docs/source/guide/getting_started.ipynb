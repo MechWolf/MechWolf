{
  "cells": [{
      "cell_type": "markdown",
      "metadata": {},
      "source": [
        "# Getting Started\n",
        "\n",
        "The best way to learn MechWolf is by example. In the spirit of reproducibility,\n",
        "we are going to go through the process of setting up and running our peptoid\n",
        "synthesizer step-by-step.\n",
        "\n",
        "## Create Components\n",
        "\n",
        "Let's start from square one (or zero, if you're counting like a programmer). We first need to import MechWolf:"
      ]
    },
    {
      "cell_type": "code",
      "execution_count": null,
      "metadata": {},
      "outputs": [],
      "source": [
        "import mechwolf as mw"
      ]
    },
    {
      "cell_type": "markdown",
      "metadata": {},
      "source": [
        "The next thing that we need to do is to define the components of our\n",
        "synthesizer. It will consist of vessels containing reagents:"
      ]
    },
    {
      "cell_type": "code",
      "execution_count": null,
      "metadata": {},
      "outputs": [],
      "source": [
        "# define vessels\n",
        "coupling_agent = mw.Vessel(\"DCC\", name=\"coupling_agent\")\n",
        "acid = mw.Vessel(\"bromoacetic acid\", name=\"acid\")\n",
        "solvent = mw.Vessel(\"solvent\", name=\"solvent\")\n",
        "output = mw.Vessel(\"waste\", name=\"output\")"
      ]
    },
    {
      "cell_type": "markdown",
      "metadata": {},
      "source": [
        "And the amines:"
      ]
    },
    {
      "cell_type": "code",
      "execution_count": null,
      "metadata": {},
      "outputs": [],
      "source": [
        "# define amines\n",
        "amine_1 = mw.Vessel(\"amine_1\", name=\"amine_1\")\n",
        "amine_2 = mw.Vessel(\"amine_2\", name=\"amine_2\")\n",
        "amine_3 = mw.Vessel(\"amine_3\", name=\"amine_3\")\n",
        "amine_4 = mw.Vessel(\"amine_4\", name=\"amine_4\")\n",
        "amine_5 = mw.Vessel(\"amine_5\", name=\"amine_5\")\n",
        "amine_6 = mw.Vessel(\"amine_6\", name=\"amine_6\")\n",
        "amine_7 = mw.Vessel(\"amine_7\", name=\"amine_7\")\n",
        "amine_8 = mw.Vessel(\"amine_8\", name=\"amine_8\")"
      ]
    },
    {
      "cell_type": "markdown",
      "metadata": {},
      "source": [
        "What we have so far are a bunch of `vessel` objects.\n",
        "Note that when we instantiate them we give them two arguments. The first,\n",
        "required argument is what's in it. The second `name` keyword is the name the\n",
        "we'll be using to refer to it. Consider the `name` to be like a unique\n",
        "identifier. In most if not all cases it should match the variable name. However,\n",
        "note that the name of the vessel does not need to match what's inside it.\n",
        "\n",
        "Now, we'll define the pumps that will drive the system:"
      ]
    },
    {
      "cell_type": "code",
      "execution_count": null,
      "metadata": {},
      "outputs": [],
      "source": [
        "# define pumps\n",
        "coupling_pump = mw.VarianPump(name=\"pump_3\")\n",
        "amine_pump = mw.VarianPump(name=\"pump_2\")\n",
        "mixer = mw.TMixer()"
      ]
    },
    {
      "cell_type": "markdown",
      "metadata": {},
      "source": [
        "Note that the names of the objects don't match the variables! Why? Each physical\n",
        "device has a unique name that is associated with it. In one apparatus, the pump\n",
        "named ``pump_3`` might be the coupling pump, but in a completely different\n",
        "apparatus might be something entirely different. However, we need a way uniquely\n",
        "identify it so that we can send it commands during execution. It would be\n",
        "annoying to have to remember the name of the phyiscal device **and** the\n",
        "device's variable name, so you only need to associate them once (at definition)\n",
        "and MechWolf will take care of making sure that commands get to the right place\n",
        "during execution."
      ]
    },
    {
      "cell_type": "code",
      "execution_count": null,
      "metadata": {},
      "outputs": [],
      "source": [
        "# define valve\n",
        "amine_mapping = dict(\n",
        "    amine_1=1,\n",
        "    amine_2=2,\n",
        "    amine_3=3,\n",
        "    amine_4=4,\n",
        "    amine_5=5,\n",
        "    amine_6=6,\n",
        "    amine_7=7,\n",
        "    amine_8=8,\n",
        "    acid=9,\n",
        "    solvent=10,\n",
        ")\n",
        "valve = mw.ViciValve(name=\"valve\", mapping=amine_mapping)"
      ]
    },
    {
      "cell_type": "code",
      "execution_count": null,
      "metadata": {},
      "outputs": [],
      "source": [
        "coupling_valve = mw.ViciValve(\n",
        "    name=\"coupling_valve\", mapping=dict(coupling_agent=1, solvent=10)\n",
        ")"
      ]
    },
    {
      "cell_type": "code",
      "execution_count": null,
      "metadata": {},
      "outputs": [],
      "source": [
        "fat_tube = mw.Tube(length=\"2 foot\", ID=\"1/16 in\", OD=\"1/8 in\", material=\"PFA\")\n",
        "thin_tube = mw.Tube(length=\"2 foot\", ID=\"0.04 in\", OD=\"1/16 in\", material=\"PFA\")"
      ]
    },
    {
      "cell_type": "markdown",
      "metadata": {},
      "source": [
        "## Create the Apparatus\n",
        "\n",
        "Now that we have our components defined, we need to tell Mechwolf how they are connected. The `Apparatus` object will do just that. First, we create the object (calling it `A` for brevity) and give it a name as the only argument."
      ]
    },
    {
      "cell_type": "code",
      "execution_count": null,
      "metadata": {},
      "outputs": [],
      "source": [
        "A = mw.Apparatus(\"Automated Fast Flow Peptoid Synthesizer\")"
      ]
    },
    {
      "cell_type": "markdown",
      "metadata": {},
      "source": [
        "We now need to tell Mechwolf what components make up the apparatus. We do that with the `add()` function, which takes three arguments: from component(s), to component, and tube."
      ]
    },
    {
      "cell_type": "code",
      "execution_count": null,
      "metadata": {},
      "outputs": [],
      "source": [
        "A.add(\n",
        "    coupling_agent,\n",
        "    coupling_valve,\n",
        "    mw.Tube(length=\"130 cm\", ID=\"1/16 in\", OD=\"1/8 in\", material=\"PFA\"),\n",
        ")\n",
        "A.add(solvent, coupling_valve, fat_tube)\n",
        "A.add(coupling_valve, coupling_pump, fat_tube)\n",
        "A.add(coupling_pump, mixer, thin_tube)\n",
        "A.add(\n",
        "    [\n",
        "        amine_1,\n",
        "        amine_2,\n",
        "        amine_3,\n",
        "        amine_4,\n",
        "        amine_5,\n",
        "        amine_6,\n",
        "        amine_7,\n",
        "        amine_8,\n",
        "        solvent,\n",
        "        acid,\n",
        "    ],\n",
        "    valve,\n",
        "    fat_tube,\n",
        ")\n",
        "A.add(valve, amine_pump, fat_tube)\n",
        "A.add(amine_pump, mixer, thin_tube)"
      ]
    },
    {
      "cell_type": "code",
      "execution_count": null,
      "metadata": {},
      "outputs": [],
      "source": [
        "A.visualize()"
      ]
    },
    {
      "cell_type": "code",
      "execution_count": null,
      "metadata": {},
      "outputs": [],
      "source": [
        "A.summarize()"
      ]
    },
    {
      "cell_type": "code",
      "execution_count": null,
      "metadata": {},
      "outputs": [],
      "source": [
        "P = mw.Protocol(A)"
      ]
    },
    {
      "cell_type": "code",
      "execution_count": null,
      "metadata": {},
      "outputs": [],
      "source": [
        "from datetime import timedelta\n",
        "\n",
        "# let's start at the very beginning (a very good place to start)\n",
        "start = timedelta(seconds=0)\n",
        "\n",
        "# how much time to leave the pumps off before and after switching the valve\n",
        "switching_time = timedelta(seconds=1)\n",
        "coupling_duration = timedelta(minutes=1, seconds=30)\n",
        "amine_addition_duration = timedelta(minutes=1, seconds=30)"
      ]
    },
    {
      "cell_type": "code",
      "execution_count": null,
      "metadata": {},
      "outputs": [],
      "source": [
        "def add_rinse():\n",
        "    global start\n",
        "    rinse_duration = timedelta(minutes=2)\n",
        "\n",
        "    P.add(\n",
        "        [valve, coupling_valve], start=start, duration=rinse_duration, setting=\"solvent\"\n",
        "    )\n",
        "\n",
        "    P.add(\n",
        "        [amine_pump, coupling_pump],\n",
        "        start=start + switching_time,\n",
        "        duration=rinse_duration - 2 * switching_time,\n",
        "        rate=\"5 mL/min\",\n",
        "    )\n",
        "\n",
        "    start += rinse_duration"
      ]
    },
    {
      "cell_type": "code",
      "execution_count": null,
      "metadata": {},
      "outputs": [],
      "source": [
        "peptoid = [\n",
        "    \"amine_2\",\n",
        "    \"amine_2\",\n",
        "    \"amine_1\",\n",
        "    \"amine_2\",\n",
        "    \"amine_1\",\n",
        "    \"amine_3\",\n",
        "    \"amine_2\",\n",
        "    \"amine_1\",\n",
        "    \"amine_3\",\n",
        "    \"amine_3\",\n",
        "]"
      ]
    },
    {
      "cell_type": "markdown",
      "metadata": {},
      "source": [
        "We now define "
      ]
    },
    {
      "cell_type": "code",
      "execution_count": null,
      "metadata": {},
      "outputs": [],
      "source": [
        "for amine in peptoid:\n",
        "\n",
        "    # initial rinse\n",
        "    add_rinse()\n",
        "\n",
        "    # perform acid coupling, first setting valve positions\n",
        "    P.add(valve, start=start, duration=coupling_duration, setting=\"acid\")\n",
        "    P.add(\n",
        "        coupling_valve,\n",
        "        start=start,\n",
        "        duration=coupling_duration,\n",
        "        setting=\"coupling_agent\",\n",
        "    )\n",
        "    # then turn on the pumps for the duration, leaving time on both ends for valve switching\n",
        "    P.add(\n",
        "        [amine_pump, coupling_pump],\n",
        "        start=start + switching_time,\n",
        "        duration=coupling_duration - 2 * switching_time,\n",
        "        rate=\"5 mL/min\",\n",
        "    )\n",
        "    start += coupling_duration\n",
        "\n",
        "    # another rise\n",
        "    add_rinse()\n",
        "\n",
        "    # now onto amine addition, setting the main valve to the amine\n",
        "    P.add(valve, start=start, duration=amine_addition_duration, setting=amine)\n",
        "    # move the coupling valve to the solvent position\n",
        "    P.add(\n",
        "        coupling_valve, start=start, duration=amine_addition_duration, setting=\"solvent\"\n",
        "    )\n",
        "    # only turn on the amine pump now, again leaving switching time\n",
        "    P.add(\n",
        "        amine_pump,\n",
        "        start=start + switching_time,\n",
        "        duration=amine_addition_duration - 2 * switching_time,\n",
        "        rate=\"5 mL/min\",\n",
        "    )\n",
        "    start += amine_addition_duration\n",
        "\n",
        "    # after amine addition, wash out with just the amine pump\n",
        "    P.add(valve, start=start, duration=amine_addition_duration, setting=\"solvent\")\n",
        "    P.add(\n",
        "        coupling_valve, start=start, duration=amine_addition_duration, setting=\"solvent\"\n",
        "    )\n",
        "    P.add(\n",
        "        amine_pump,\n",
        "        start=start + switching_time,\n",
        "        duration=amine_addition_duration - 2 * switching_time,\n",
        "        rate=\"5 mL/min\",\n",
        "    )\n",
        "    start += amine_addition_duration"
      ]
    },
    {
      "cell_type": "code",
      "execution_count": null,
      "metadata": {},
      "outputs": [],
      "source": [
        "add_rinse()\n",
        "add_rinse()"
      ]
    },
    {
      "cell_type": "code",
      "execution_count": null,
      "metadata": {},
      "outputs": [],
      "source": [
        "P.visualize()"
      ]
    }
  ],
  "metadata": {
    "kernelspec": {
      "display_name": "Python (mechwolf-env)",
      "language": "python",
      "name": "mechwolf"
    },
    "language_info": {
      "codemirror_mode": {
        "name": "ipython",
        "version": 3
      },
      "file_extension": ".py",
      "mimetype": "text/x-python",
      "name": "python",
      "nbconvert_exporter": "python",
      "pygments_lexer": "ipython3",
      "version": "3.7.3"
    }
  },
  "nbformat": 4,
  "nbformat_minor": 2
}