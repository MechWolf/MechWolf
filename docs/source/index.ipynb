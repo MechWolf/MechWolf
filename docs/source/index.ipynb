{
  "cells": [{
      "cell_type": "markdown",
      "metadata": {},
      "source": [
        "# MechWolf: Continuous flow process description, analysis, and automation made easy\n",
        "\n",
        "MechWolf is a Python framework for automating continuous flow processes.\n",
        "It was developed as a collaboration between computer scientists, chemists, and complete novices to be used by anyone wanting to do better, faster, more reproducible flow-based science.\n",
        "Features include:\n",
        "\n",
        "- Natural language description, analysis, and visualization of continuous flow networks\n",
        "- Automated execution of protocols\n",
        "- Full user extensibility\n",
        "- Smart default settings, designed by scientists for scientists\n",
        "- Extensive checking to prevent potentially costly and dangerous errors *before* runtime\n",
        "- Natural language parsing of times and quantities\n",
        "- Thorough documentation and tutorials\n",
        "\n",
        "\n",
        "### What does \"MechWolf\" even mean?\n",
        "\n",
        "Simply, \"MechWolf\" is an anagram of \"flow chem\". This tool can do so much more\n",
        "than just chemistry automation, so we decided not to pigeonhole ourselves by\n",
        "calling the project \"flow chem\".  We like to think MechWolf is a **way** cooler\n",
        "name anyway.\n",
        "\n",
        "### Table of Contents"
      ]
    },
    {
      "cell_type": "markdown",
      "metadata": {
        "nbsphinx-toctree": {
          "maxdepth": 2
        }
      },
      "source": [
        "- [About Mechwolf](about/about.rst)\n",
        "- [User Guide](guide/guide.rst)\n",
        "- [API Reference](api/api.rst)\n",
        "- [CLI Reference](cli/cli.rst)\n",
        "- [Contributing](contributing.md)"
      ]
    },
    {
      "cell_type": "markdown",
      "metadata": {},
      "source": [
        "### Three Minutes to MechWolf\n",
        "\n",
        "\n",
        "Let's say you're trying to automate the production of [acetaminophen](https://en.wikipedia.org/wiki/Paracetamol), a popular pain reliever and fever\n",
        "reducer. The reaction involves combining two chemicals, 4-aminophenol and acetic\n",
        "anhydride. The basic level of organization in MechWolf are individual\n",
        "components, such as the vessels and pumps. Let's go ahead and create them:"
      ]
    },
    {
      "cell_type": "code",
      "execution_count": 1,
      "metadata": {},
      "outputs": [],
      "source": [
        "import mechwolf as mw\n",
        "\n",
        "# define the vessels\n",
        "aminophenol = mw.Vessel(description=\"15 mL `4-aminophenol`\", name=\"aminophenol\")\n",
        "acetic_anhydride = mw.Vessel(\"15 mL `acetic anhydride`\", name=\"acetic anhydride\")\n",
        "acetaminophen = mw.Vessel(\"`acetaminophen`\", name=\"acetaminophen\")\n",
        "\n",
        "# define the pumps\n",
        "pump_1 = mw.Pump(name=\"pump_1\")\n",
        "pump_2 = mw.Pump(name=\"pump_2\")\n",
        "\n",
        "# define the mixer\n",
        "mixer = mw.TMixer()"
      ]
    },
    {
      "cell_type": "markdown",
      "metadata": {},
      "source": [
        "That wasn’t too bad! Just as putting vessels and pumps on a lab bench doesn’t actually do anything, we’re going to need to tell MechWolf what the configuration of the components is. The ` symbols are there to surround chemical names that we want resolved; we’ll see how that works shortly.\n",
        "\n",
        "We can do this by creating an `Apparatus` object. To add connections between components, we need to tell MechWolf three things: where the connection is from, where it’s going, and how they are actually connected. Tubing type can have a significant effect on reproducibility, so we require that you explicitly specify what tubing you are using when connecting components. This sounds complicated, but it is actually easy in practice:"
      ]
    },
    {
      "cell_type": "code",
      "execution_count": 2,
      "metadata": {},
      "outputs": [],
      "source": [
        "# same tube specs for all tubes\n",
        "tube = mw.Tube(length=\"1 m\", ID=\"1/16 in\", OD=\"2/16 in\", material=\"PVC\")\n",
        "\n",
        "# create the Apparatus object\n",
        "A = mw.Apparatus()\n",
        "\n",
        "# add the connections\n",
        "A.add(aminophenol, pump_1, tube)  # connect aminophenol vessel to pump_1\n",
        "A.add(acetic_anhydride, pump_2, tube)  # connect acetic_anhydride vessel to pump_2\n",
        "A.add([pump_1, pump_2], mixer, tube)  # connect pump_1 and pump_2 to mixer\n",
        "A.add(mixer, acetaminophen, tube)  # connect mixer to the output vessel"
      ]
    },
    {
      "cell_type": "markdown",
      "metadata": {},
      "source": [
        "With the Apparatus object, we can do so much. If we call `summarize()`, we’ll get a clean tabular describe of our apparatus like this with summary values automatically computed:"
      ]
    },
    {
      "cell_type": "code",
      "execution_count": 3,
      "metadata": {},
      "outputs": [{
        "data": {
          "text/html": [
            "<h3>Components</h3><table>\n",
            "<thead><tr>\n",
            "<th>Name</th>\n",
            "<th>Type</th>\n",
            "</tr>\n",
            "</thead>\n",
            "<tbody>\n",
            "<tr>\n",
            "<td>acetaminophen (N-(4-Hydroxyphenyl)acetamide)</td>\n",
            "<td>Vessel</td>\n",
            "</tr>\n",
            "<tr>\n",
            "<td>15 mL 4-aminophenol</td>\n",
            "<td>Vessel</td>\n",
            "</tr>\n",
            "<tr>\n",
            "<td>15 mL acetic anhydride (Acetyl acetate)</td>\n",
            "<td>Vessel</td>\n",
            "</tr>\n",
            "<tr>\n",
            "<td>pump_2</td>\n",
            "<td>Pump</td>\n",
            "</tr>\n",
            "<tr>\n",
            "<td>TMixer_0</td>\n",
            "<td>TMixer</td>\n",
            "</tr>\n",
            "<tr>\n",
            "<td>pump_1</td>\n",
            "<td>Pump</td>\n",
            "</tr>\n",
            "</tbody>\n",
            "</table>\n",
            "<h3>Tubing</h3><table>\n",
            "<thead><tr>\n",
            "<th>From</th>\n",
            "<th>To</th>\n",
            "<th>Length</th>\n",
            "<th>Inner Diameter</th>\n",
            "<th>Outer Diameter</th>\n",
            "<th>Volume</th>\n",
            "<th>Material</th>\n",
            "</tr>\n",
            "</thead>\n",
            "<tbody>\n",
            "<tr>\n",
            "<td>aminophenol</td>\n",
            "<td>pump_1</td>\n",
            "<td>1 meter</td>\n",
            "<td>0.0625 inch</td>\n",
            "<td>0.125 inch</td>\n",
            "<td>1.9793 milliliter</td>\n",
            "<td>PVC</td>\n",
            "</tr>\n",
            "<tr>\n",
            "<td>acetic anhydride</td>\n",
            "<td>pump_2</td>\n",
            "<td>1 meter</td>\n",
            "<td>0.0625 inch</td>\n",
            "<td>0.125 inch</td>\n",
            "<td>1.9793 milliliter</td>\n",
            "<td>PVC</td>\n",
            "</tr>\n",
            "<tr>\n",
            "<td>pump_1</td>\n",
            "<td>TMixer_0</td>\n",
            "<td>1 meter</td>\n",
            "<td>0.0625 inch</td>\n",
            "<td>0.125 inch</td>\n",
            "<td>1.9793 milliliter</td>\n",
            "<td>PVC</td>\n",
            "</tr>\n",
            "<tr>\n",
            "<td>pump_2</td>\n",
            "<td>TMixer_0</td>\n",
            "<td>1 meter</td>\n",
            "<td>0.0625 inch</td>\n",
            "<td>0.125 inch</td>\n",
            "<td>1.9793 milliliter</td>\n",
            "<td>PVC</td>\n",
            "</tr>\n",
            "<tr>\n",
            "<td>TMixer_0</td>\n",
            "<td>acetaminophen</td>\n",
            "<td>1 meter</td>\n",
            "<td>0.0625 inch</td>\n",
            "<td>0.125 inch</td>\n",
            "<td>1.9793 milliliter</td>\n",
            "<td>PVC</td>\n",
            "</tr>\n",
            "<tr>\n",
            "<td></td>\n",
            "<td><strong>Total</strong></td>\n",
            "<td>5000.0 millimeter</td>\n",
            "<td>n/a</td>\n",
            "<td>n/a</td>\n",
            "<td>9.8966 milliliter</td>\n",
            "<td>n/a</td>\n",
            "</tr>\n",
            "</tbody>\n",
            "</table>\n"
          ],
          "text/plain": [
            "<IPython.core.display.HTML object>"
          ]
        },
        "execution_count": 3,
        "metadata": {},
        "output_type": "execute_result"
      }],
      "source": [
        "A.summarize()"
      ]
    },
    {
      "cell_type": "markdown",
      "metadata": {},
      "source": [
        "But wait, there’s more! `visualize()` will create a diagram of the network:"
      ]
    },
    {
      "cell_type": "code",
      "execution_count": 4,
      "metadata": {},
      "outputs": [{
        "data": {
          "image/svg+xml": [
            "<?xml version=\"1.0\" encoding=\"UTF-8\" standalone=\"no\"?>\n",
            "<!DOCTYPE svg PUBLIC \"-//W3C//DTD SVG 1.1//EN\"\n",
            " \"http://www.w3.org/Graphics/SVG/1.1/DTD/svg11.dtd\">\n",
            "<!-- Generated by graphviz version 2.40.1 (20161225.0304)\n",
            " -->\n",
            "<!-- Title: Apparatus_0 Pages: 1 -->\n",
            "<svg width=\"460pt\" height=\"120pt\"\n",
            " viewBox=\"0.00 0.00 459.51 120.00\" xmlns=\"http://www.w3.org/2000/svg\" xmlns:xlink=\"http://www.w3.org/1999/xlink\">\n",
            "<g id=\"graph0\" class=\"graph\" transform=\"scale(1 1) rotate(0) translate(4 116)\">\n",
            "<title>Apparatus_0</title>\n",
            "<polygon fill=\"#ffffff\" stroke=\"transparent\" points=\"-4,4 -4,-116 455.5078,-116 455.5078,4 -4,4\"/>\n",
            "<text text-anchor=\"middle\" x=\"225.7539\" y=\"-6.8\" font-family=\"Times,serif\" font-size=\"14.00\" fill=\"#000000\">Apparatus_0</text>\n",
            "<!-- TMixer_0 -->\n",
            "<g id=\"node1\" class=\"node\">\n",
            "<title>TMixer_0</title>\n",
            "<polygon fill=\"none\" stroke=\"#000000\" points=\"302.6527,-79 242.1207,-79 242.1207,-55 302.6527,-55 314.6527,-67 302.6527,-79\"/>\n",
            "<text text-anchor=\"middle\" x=\"278.3867\" y=\"-62.8\" font-family=\"Times,serif\" font-size=\"14.00\" fill=\"#000000\">TMixer_0</text>\n",
            "</g>\n",
            "<!-- acetaminophen -->\n",
            "<g id=\"node2\" class=\"node\">\n",
            "<title>acetaminophen</title>\n",
            "<path fill=\"none\" stroke=\"#000000\" d=\"M451.3773,-81.7273C451.3773,-83.5331 428.8595,-85 401.1387,-85 373.4178,-85 350.9001,-83.5331 350.9001,-81.7273 350.9001,-81.7273 350.9001,-52.2727 350.9001,-52.2727 350.9001,-50.4669 373.4178,-49 401.1387,-49 428.8595,-49 451.3773,-50.4669 451.3773,-52.2727 451.3773,-52.2727 451.3773,-81.7273 451.3773,-81.7273\"/>\n",
            "<path fill=\"none\" stroke=\"#000000\" d=\"M451.3773,-81.7273C451.3773,-79.9214 428.8595,-78.4545 401.1387,-78.4545 373.4178,-78.4545 350.9001,-79.9214 350.9001,-81.7273\"/>\n",
            "<text text-anchor=\"middle\" x=\"401.1387\" y=\"-62.8\" font-family=\"Times,serif\" font-size=\"14.00\" fill=\"#000000\">acetaminophen</text>\n",
            "</g>\n",
            "<!-- TMixer_0&#45;&gt;acetaminophen -->\n",
            "<g id=\"edge5\" class=\"edge\">\n",
            "<title>TMixer_0&#45;&gt;acetaminophen</title>\n",
            "<path fill=\"none\" stroke=\"#000000\" d=\"M314.884,-67C314.884,-67 340.4702,-67 340.4702,-67\"/>\n",
            "<polygon fill=\"#000000\" stroke=\"#000000\" points=\"340.4702,-70.5001 350.4702,-67 340.4702,-63.5001 340.4702,-70.5001\"/>\n",
            "</g>\n",
            "<!-- acetic anhydride -->\n",
            "<g id=\"node3\" class=\"node\">\n",
            "<title>acetic anhydride</title>\n",
            "<path fill=\"none\" stroke=\"#000000\" d=\"M108.1714,-54.7273C108.1714,-56.5331 83.9165,-58 54.0571,-58 24.1977,-58 -.0572,-56.5331 -.0572,-54.7273 -.0572,-54.7273 -.0572,-25.2727 -.0572,-25.2727 -.0572,-23.4669 24.1977,-22 54.0571,-22 83.9165,-22 108.1714,-23.4669 108.1714,-25.2727 108.1714,-25.2727 108.1714,-54.7273 108.1714,-54.7273\"/>\n",
            "<path fill=\"none\" stroke=\"#000000\" d=\"M108.1714,-54.7273C108.1714,-52.9214 83.9165,-51.4545 54.0571,-51.4545 24.1977,-51.4545 -.0572,-52.9214 -.0572,-54.7273\"/>\n",
            "<text text-anchor=\"middle\" x=\"54.0571\" y=\"-35.8\" font-family=\"Times,serif\" font-size=\"14.00\" fill=\"#000000\">acetic anhydride</text>\n",
            "</g>\n",
            "<!-- pump_2 -->\n",
            "<g id=\"node6\" class=\"node\">\n",
            "<title>pump_2</title>\n",
            "<polygon fill=\"none\" stroke=\"#000000\" points=\"205.9488,-58 148.1693,-58 144.1693,-54 144.1693,-22 201.9488,-22 205.9488,-26 205.9488,-58\"/>\n",
            "<polyline fill=\"none\" stroke=\"#000000\" points=\"201.9488,-54 144.1693,-54 \"/>\n",
            "<polyline fill=\"none\" stroke=\"#000000\" points=\"201.9488,-54 201.9488,-22 \"/>\n",
            "<polyline fill=\"none\" stroke=\"#000000\" points=\"201.9488,-54 205.9488,-58 \"/>\n",
            "<text text-anchor=\"middle\" x=\"175.0591\" y=\"-35.8\" font-family=\"Times,serif\" font-size=\"14.00\" fill=\"#000000\">pump_2</text>\n",
            "</g>\n",
            "<!-- acetic anhydride&#45;&gt;pump_2 -->\n",
            "<g id=\"edge2\" class=\"edge\">\n",
            "<title>acetic anhydride&#45;&gt;pump_2</title>\n",
            "<path fill=\"none\" stroke=\"#000000\" d=\"M108.1877,-40C108.1877,-40 133.8415,-40 133.8415,-40\"/>\n",
            "<polygon fill=\"#000000\" stroke=\"#000000\" points=\"133.8416,-43.5001 143.8415,-40 133.8415,-36.5001 133.8416,-43.5001\"/>\n",
            "</g>\n",
            "<!-- aminophenol -->\n",
            "<g id=\"node4\" class=\"node\">\n",
            "<title>aminophenol</title>\n",
            "<path fill=\"none\" stroke=\"#000000\" d=\"M98.6539,-108.7273C98.6539,-110.5331 78.6649,-112 54.0571,-112 29.4494,-112 9.4604,-110.5331 9.4604,-108.7273 9.4604,-108.7273 9.4604,-79.2727 9.4604,-79.2727 9.4604,-77.4669 29.4494,-76 54.0571,-76 78.6649,-76 98.6539,-77.4669 98.6539,-79.2727 98.6539,-79.2727 98.6539,-108.7273 98.6539,-108.7273\"/>\n",
            "<path fill=\"none\" stroke=\"#000000\" d=\"M98.6539,-108.7273C98.6539,-106.9214 78.6649,-105.4545 54.0571,-105.4545 29.4494,-105.4545 9.4604,-106.9214 9.4604,-108.7273\"/>\n",
            "<text text-anchor=\"middle\" x=\"54.0571\" y=\"-89.8\" font-family=\"Times,serif\" font-size=\"14.00\" fill=\"#000000\">aminophenol</text>\n",
            "</g>\n",
            "<!-- pump_1 -->\n",
            "<g id=\"node5\" class=\"node\">\n",
            "<title>pump_1</title>\n",
            "<polygon fill=\"none\" stroke=\"#000000\" points=\"205.9488,-112 148.1693,-112 144.1693,-108 144.1693,-76 201.9488,-76 205.9488,-80 205.9488,-112\"/>\n",
            "<polyline fill=\"none\" stroke=\"#000000\" points=\"201.9488,-108 144.1693,-108 \"/>\n",
            "<polyline fill=\"none\" stroke=\"#000000\" points=\"201.9488,-108 201.9488,-76 \"/>\n",
            "<polyline fill=\"none\" stroke=\"#000000\" points=\"201.9488,-108 205.9488,-112 \"/>\n",
            "<text text-anchor=\"middle\" x=\"175.0591\" y=\"-89.8\" font-family=\"Times,serif\" font-size=\"14.00\" fill=\"#000000\">pump_1</text>\n",
            "</g>\n",
            "<!-- aminophenol&#45;&gt;pump_1 -->\n",
            "<g id=\"edge1\" class=\"edge\">\n",
            "<title>aminophenol&#45;&gt;pump_1</title>\n",
            "<path fill=\"none\" stroke=\"#000000\" d=\"M98.77,-94C98.77,-94 134.1141,-94 134.1141,-94\"/>\n",
            "<polygon fill=\"#000000\" stroke=\"#000000\" points=\"134.1141,-97.5001 144.1141,-94 134.114,-90.5001 134.1141,-97.5001\"/>\n",
            "</g>\n",
            "<!-- pump_1&#45;&gt;TMixer_0 -->\n",
            "<g id=\"edge3\" class=\"edge\">\n",
            "<title>pump_1&#45;&gt;TMixer_0</title>\n",
            "<path fill=\"none\" stroke=\"#000000\" d=\"M206.0608,-80.5C206.0608,-80.5 231.9504,-80.5 231.9504,-80.5\"/>\n",
            "<polygon fill=\"#000000\" stroke=\"#000000\" points=\"231.9505,-84.0001 241.9504,-80.5 231.9504,-77.0001 231.9505,-84.0001\"/>\n",
            "</g>\n",
            "<!-- pump_2&#45;&gt;TMixer_0 -->\n",
            "<g id=\"edge4\" class=\"edge\">\n",
            "<title>pump_2&#45;&gt;TMixer_0</title>\n",
            "<path fill=\"none\" stroke=\"#000000\" d=\"M206.0608,-53.5C206.0608,-53.5 231.9504,-53.5 231.9504,-53.5\"/>\n",
            "<polygon fill=\"#000000\" stroke=\"#000000\" points=\"231.9505,-57.0001 241.9504,-53.5 231.9504,-50.0001 231.9505,-57.0001\"/>\n",
            "</g>\n",
            "</g>\n",
            "</svg>\n"
          ],
          "text/plain": [
            "<graphviz.dot.Digraph at 0x1118f80f0>"
          ]
        },
        "execution_count": 4,
        "metadata": {},
        "output_type": "execute_result"
      }],
      "source": [
        "A.visualize()"
      ]
    },
    {
      "cell_type": "markdown",
      "metadata": {},
      "source": [
        "It’s fully customizable, so you can decide whether to show the details of the tubing, the name of the apparatus, and more. And that’s not all either. `describe()` will generate an SI-ready description of the apparatus:"
      ]
    },
    {
      "cell_type": "code",
      "execution_count": 5,
      "metadata": {},
      "outputs": [{
        "data": {
          "text/markdown": [
            "A vessel containing 15 mL 4-aminophenol was connected to Pump pump_1 using PVC tubing (length 1 meter, ID 0.0625 inch, OD 0.125 inch). A vessel containing 15 mL acetic anhydride (Acetyl acetate) was connected to Pump pump_2 using PVC tubing (length 1 meter, ID 0.0625 inch, OD 0.125 inch). Pump pump_1 was connected to TMixer TMixer_0 using PVC tubing (length 1 meter, ID 0.0625 inch, OD 0.125 inch). Pump pump_2 was connected to TMixer TMixer_0 using PVC tubing (length 1 meter, ID 0.0625 inch, OD 0.125 inch). TMixer TMixer_0 was connected to a vessel containing acetaminophen (N-(4-Hydroxyphenyl)acetamide) using PVC tubing (length 1 meter, ID 0.0625 inch, OD 0.125 inch). "
          ],
          "text/plain": [
            "<IPython.core.display.Markdown object>"
          ]
        },
        "execution_count": 5,
        "metadata": {},
        "output_type": "execute_result"
      }],
      "source": [
        "A.describe()"
      ]
    },
    {
      "cell_type": "markdown",
      "metadata": {},
      "source": [
        "Note that chemical names were automatically resolved to their IUPAC names. That’s because the ` symbols around the chemical name tell MechWolf to use the National Cancer Institute’s resolver.\n",
        "\n",
        "Now that we’ve gone over how to define an apparatus and all the different ways to inspect it, let’s make it synthesize acetaminophen. We do that with a `Protocol`, a list of procedures defined for an `Apparatus`. For this reaction, it’s as simple as deciding the flow rate and duration for which to run the pumps:"
      ]
    },
    {
      "cell_type": "code",
      "execution_count": 6,
      "metadata": {},
      "outputs": [],
      "source": [
        "# create the Protocol object\n",
        "P = mw.Protocol(A, name=\"acetaminophen synthesis\")\n",
        "P.add([pump_1, pump_2], duration=\"15 seconds\", rate=\"1 mL/min\")"
      ]
    },
    {
      "cell_type": "markdown",
      "metadata": {},
      "source": [
        "It’s really that simple to create protocols. We can visualize it equally simply with `visualize()`:"
      ]
    },
    {
      "cell_type": "code",
      "execution_count": 7,
      "metadata": {},
      "outputs": [{
        "data": {
          "text/html": [
            "<div id=\"timeline\"></div>\n",
            "<script type=\"text/javascript\" src=\"https://www.gstatic.com/charts/loader.js\"></script>\n",
            "<script charset=\"utf-8\">\n",
            "\tgoogle.charts.load('current', {'packages':['timeline']});\n",
            "\tgoogle.charts.setOnLoadCallback(drawChart);\n",
            "\tfunction drawChart() {\n",
            "\t\tvar container = document.getElementById('timeline');\n",
            "\t\tvar chart = new google.visualization.Timeline(container);\n",
            "\t\tvar dataTable = new google.visualization.DataTable();\n",
            "\t\tvar options = { timeline: {\n",
            "                barLabelStyle: {opacity: 0}},\n",
            "\t\t\tavoidOverlappingGridLines: false\n",
            "\t\t };\n",
            "\n",
            "\n",
            "\t\tdataTable.addColumn({ type: 'string', id: 'Component' });\n",
            "\t\tdataTable.addColumn({ type: 'string', id: 'Setting' });\n",
            "\t\tdataTable.addColumn({ type: 'date', id: 'Start' });\n",
            "\t\tdataTable.addColumn({ type: 'date', id: 'End' });\n",
            "\t\tdataTable.addRows([\n",
            "\t\t\t\n",
            "\t\t\t[ \"pump_1\", \"{'rate': '1 mL/min'}\", new Date(0, 0, 0, 0, 0, 0), new Date(0, 0, 0, 0, 0, 15) ],\n",
            "\t\t\t\n",
            "\t\t\t[ \"pump_2\", \"{'rate': '1 mL/min'}\", new Date(0, 0, 0, 0, 0, 0), new Date(0, 0, 0, 0, 0, 15) ],\n",
            "\t\t\t\n",
            "\t\t\t]);\n",
            "\t\tchart.draw(dataTable, options);\n",
            "\t}\n",
            "</script>"
          ],
          "text/plain": [
            "<IPython.core.display.HTML object>"
          ]
        },
        "execution_count": 7,
        "metadata": {},
        "output_type": "execute_result"
      }],
      "source": [
        "P.visualize()"
      ]
    },
    {
      "cell_type": "markdown",
      "metadata": {},
      "source": [
        "Since we have a good idea of what our protocol is going to do, let’s go ahead and compile it. This will convert the procedure we added to the protocol into a list of instructions that can be passed to the components. We can compile it directly with `compile()` but let’s get it in YAML format for the sake of readability by calling `yaml()`:"
      ]
    },
    {
      "cell_type": "code",
      "execution_count": 8,
      "metadata": {},
      "outputs": [{
        "data": {
          "text/html": [
            "<style>.output_html .hll { background-color: #ffffcc }\n",
            ".output_html  { background: #f8f8f8; }\n",
            ".output_html .c { color: #408080; font-style: italic } /* Comment */\n",
            ".output_html .err { border: 1px solid #FF0000 } /* Error */\n",
            ".output_html .k { color: #008000; font-weight: bold } /* Keyword */\n",
            ".output_html .o { color: #666666 } /* Operator */\n",
            ".output_html .ch { color: #408080; font-style: italic } /* Comment.Hashbang */\n",
            ".output_html .cm { color: #408080; font-style: italic } /* Comment.Multiline */\n",
            ".output_html .cp { color: #BC7A00 } /* Comment.Preproc */\n",
            ".output_html .cpf { color: #408080; font-style: italic } /* Comment.PreprocFile */\n",
            ".output_html .c1 { color: #408080; font-style: italic } /* Comment.Single */\n",
            ".output_html .cs { color: #408080; font-style: italic } /* Comment.Special */\n",
            ".output_html .gd { color: #A00000 } /* Generic.Deleted */\n",
            ".output_html .ge { font-style: italic } /* Generic.Emph */\n",
            ".output_html .gr { color: #FF0000 } /* Generic.Error */\n",
            ".output_html .gh { color: #000080; font-weight: bold } /* Generic.Heading */\n",
            ".output_html .gi { color: #00A000 } /* Generic.Inserted */\n",
            ".output_html .go { color: #888888 } /* Generic.Output */\n",
            ".output_html .gp { color: #000080; font-weight: bold } /* Generic.Prompt */\n",
            ".output_html .gs { font-weight: bold } /* Generic.Strong */\n",
            ".output_html .gu { color: #800080; font-weight: bold } /* Generic.Subheading */\n",
            ".output_html .gt { color: #0044DD } /* Generic.Traceback */\n",
            ".output_html .kc { color: #008000; font-weight: bold } /* Keyword.Constant */\n",
            ".output_html .kd { color: #008000; font-weight: bold } /* Keyword.Declaration */\n",
            ".output_html .kn { color: #008000; font-weight: bold } /* Keyword.Namespace */\n",
            ".output_html .kp { color: #008000 } /* Keyword.Pseudo */\n",
            ".output_html .kr { color: #008000; font-weight: bold } /* Keyword.Reserved */\n",
            ".output_html .kt { color: #B00040 } /* Keyword.Type */\n",
            ".output_html .m { color: #666666 } /* Literal.Number */\n",
            ".output_html .s { color: #BA2121 } /* Literal.String */\n",
            ".output_html .na { color: #7D9029 } /* Name.Attribute */\n",
            ".output_html .nb { color: #008000 } /* Name.Builtin */\n",
            ".output_html .nc { color: #0000FF; font-weight: bold } /* Name.Class */\n",
            ".output_html .no { color: #880000 } /* Name.Constant */\n",
            ".output_html .nd { color: #AA22FF } /* Name.Decorator */\n",
            ".output_html .ni { color: #999999; font-weight: bold } /* Name.Entity */\n",
            ".output_html .ne { color: #D2413A; font-weight: bold } /* Name.Exception */\n",
            ".output_html .nf { color: #0000FF } /* Name.Function */\n",
            ".output_html .nl { color: #A0A000 } /* Name.Label */\n",
            ".output_html .nn { color: #0000FF; font-weight: bold } /* Name.Namespace */\n",
            ".output_html .nt { color: #008000; font-weight: bold } /* Name.Tag */\n",
            ".output_html .nv { color: #19177C } /* Name.Variable */\n",
            ".output_html .ow { color: #AA22FF; font-weight: bold } /* Operator.Word */\n",
            ".output_html .w { color: #bbbbbb } /* Text.Whitespace */\n",
            ".output_html .mb { color: #666666 } /* Literal.Number.Bin */\n",
            ".output_html .mf { color: #666666 } /* Literal.Number.Float */\n",
            ".output_html .mh { color: #666666 } /* Literal.Number.Hex */\n",
            ".output_html .mi { color: #666666 } /* Literal.Number.Integer */\n",
            ".output_html .mo { color: #666666 } /* Literal.Number.Oct */\n",
            ".output_html .sa { color: #BA2121 } /* Literal.String.Affix */\n",
            ".output_html .sb { color: #BA2121 } /* Literal.String.Backtick */\n",
            ".output_html .sc { color: #BA2121 } /* Literal.String.Char */\n",
            ".output_html .dl { color: #BA2121 } /* Literal.String.Delimiter */\n",
            ".output_html .sd { color: #BA2121; font-style: italic } /* Literal.String.Doc */\n",
            ".output_html .s2 { color: #BA2121 } /* Literal.String.Double */\n",
            ".output_html .se { color: #BB6622; font-weight: bold } /* Literal.String.Escape */\n",
            ".output_html .sh { color: #BA2121 } /* Literal.String.Heredoc */\n",
            ".output_html .si { color: #BB6688; font-weight: bold } /* Literal.String.Interpol */\n",
            ".output_html .sx { color: #008000 } /* Literal.String.Other */\n",
            ".output_html .sr { color: #BB6688 } /* Literal.String.Regex */\n",
            ".output_html .s1 { color: #BA2121 } /* Literal.String.Single */\n",
            ".output_html .ss { color: #19177C } /* Literal.String.Symbol */\n",
            ".output_html .bp { color: #008000 } /* Name.Builtin.Pseudo */\n",
            ".output_html .fm { color: #0000FF } /* Name.Function.Magic */\n",
            ".output_html .vc { color: #19177C } /* Name.Variable.Class */\n",
            ".output_html .vg { color: #19177C } /* Name.Variable.Global */\n",
            ".output_html .vi { color: #19177C } /* Name.Variable.Instance */\n",
            ".output_html .vm { color: #19177C } /* Name.Variable.Magic */\n",
            ".output_html .il { color: #666666 } /* Literal.Number.Integer.Long */</style><div class=\"highlight\"><pre><span></span><span class=\"p p-Indicator\">-</span> <span class=\"nt\">component</span><span class=\"p\">:</span> <span class=\"l l-Scalar l-Scalar-Plain\">pump_1</span>\n",
            "  <span class=\"nt\">params</span><span class=\"p\">:</span>\n",
            "    <span class=\"nt\">rate</span><span class=\"p\">:</span> <span class=\"l l-Scalar l-Scalar-Plain\">1 mL/min</span>\n",
            "  <span class=\"nt\">start</span><span class=\"p\">:</span> <span class=\"l l-Scalar l-Scalar-Plain\">0.0</span>\n",
            "  <span class=\"nt\">stop</span><span class=\"p\">:</span> <span class=\"l l-Scalar l-Scalar-Plain\">15.0</span>\n",
            "<span class=\"p p-Indicator\">-</span> <span class=\"nt\">component</span><span class=\"p\">:</span> <span class=\"l l-Scalar l-Scalar-Plain\">pump_2</span>\n",
            "  <span class=\"nt\">params</span><span class=\"p\">:</span>\n",
            "    <span class=\"nt\">rate</span><span class=\"p\">:</span> <span class=\"l l-Scalar l-Scalar-Plain\">1 mL/min</span>\n",
            "  <span class=\"nt\">start</span><span class=\"p\">:</span> <span class=\"l l-Scalar l-Scalar-Plain\">0.0</span>\n",
            "  <span class=\"nt\">stop</span><span class=\"p\">:</span> <span class=\"l l-Scalar l-Scalar-Plain\">15.0</span>\n",
            "</pre></div>\n"
          ],
          "text/latex": [
            "\\begin{Verbatim}[commandchars=\\\\\\{\\}]\n",
            "\\PY{p+pIndicator}{\\PYZhy{}} \\PY{n+nt}{component}\\PY{p}{:} \\PY{l+lScalar+lScalarPlain}{pump\\PYZus{}1}\n",
            "  \\PY{n+nt}{params}\\PY{p}{:}\n",
            "    \\PY{n+nt}{rate}\\PY{p}{:} \\PY{l+lScalar+lScalarPlain}{1}\\PY{l+lScalar+lScalarPlain}{ }\\PY{l+lScalar+lScalarPlain}{mL/min}\n",
            "  \\PY{n+nt}{start}\\PY{p}{:} \\PY{l+lScalar+lScalarPlain}{0.0}\n",
            "  \\PY{n+nt}{stop}\\PY{p}{:} \\PY{l+lScalar+lScalarPlain}{15.0}\n",
            "\\PY{p+pIndicator}{\\PYZhy{}} \\PY{n+nt}{component}\\PY{p}{:} \\PY{l+lScalar+lScalarPlain}{pump\\PYZus{}2}\n",
            "  \\PY{n+nt}{params}\\PY{p}{:}\n",
            "    \\PY{n+nt}{rate}\\PY{p}{:} \\PY{l+lScalar+lScalarPlain}{1}\\PY{l+lScalar+lScalarPlain}{ }\\PY{l+lScalar+lScalarPlain}{mL/min}\n",
            "  \\PY{n+nt}{start}\\PY{p}{:} \\PY{l+lScalar+lScalarPlain}{0.0}\n",
            "  \\PY{n+nt}{stop}\\PY{p}{:} \\PY{l+lScalar+lScalarPlain}{15.0}\n",
            "\\end{Verbatim}\n"
          ],
          "text/plain": [
            "- component: pump_1\n",
            "  params:\n",
            "    rate: 1 mL/min\n",
            "  start: 0.0\n",
            "  stop: 15.0\n",
            "- component: pump_2\n",
            "  params:\n",
            "    rate: 1 mL/min\n",
            "  start: 0.0\n",
            "  stop: 15.0"
          ]
        },
        "execution_count": 8,
        "metadata": {},
        "output_type": "execute_result"
      }],
      "source": [
        "P.yaml()"
      ]
    },
    {
      "cell_type": "markdown",
      "metadata": {},
      "source": [
        "Just as we expect, the pumps will both turn on to 1 mL/min at time 0 and turn off 900 seconds (15 minutes) later. When we’re ready to actually execute the protocol, we just call `execute()` and MechWolf will do the rest, ensuring that both pumps have their protocols and start in sync."
      ]
    },
    {
      "cell_type": "code",
      "execution_count": 9,
      "metadata": {},
      "outputs": [{
          "data": {
            "application/vnd.jupyter.widget-view+json": {
              "model_id": "ae4efc194fad4ae1a40d95cbe31ba12a",
              "version_major": 2,
              "version_minor": 0
            },
            "text/plain": [
              "VBox(children=(HTML(value='<h3>Experiment 2019_07_04_22_49_53_6007a857</h3>'), Tab(children=(HTML(value='<ul><…"
            ]
          },
          "metadata": {},
          "output_type": "display_data"
        },
        {
          "data": {
            "text/plain": [
              "<Experiment 2019_07_04_22_49_53_6007a857>"
            ]
          },
          "execution_count": 9,
          "metadata": {},
          "output_type": "execute_result"
        }
      ],
      "source": [
        "P.execute(dry_run=True)"
      ]
    },
    {
      "cell_type": "code",
      "execution_count": null,
      "metadata": {},
      "outputs": [],
      "source": []
    }
  ],
  "metadata": {
    "kernelspec": {
      "display_name": "Python (mechwolf-env)",
      "language": "python",
      "name": "mechwolf"
    },
    "language_info": {
      "codemirror_mode": {
        "name": "ipython",
        "version": 3
      },
      "file_extension": ".py",
      "mimetype": "text/x-python",
      "name": "python",
      "nbconvert_exporter": "python",
      "pygments_lexer": "ipython3",
      "version": "3.7.3"
    },
    "widgets": {
      "application/vnd.jupyter.widget-state+json": {
        "state": {
          "04b8bab6a626482185fd19d0d3e08f37": {
            "model_module": "@jupyter-widgets/controls",
            "model_module_version": "1.4.0",
            "model_name": "DescriptionStyleModel",
            "state": {
              "description_width": ""
            }
          },
          "12b819a1e24a44ecb8770cbdacbbf0c6": {
            "model_module": "@jupyter-widgets/base",
            "model_module_version": "1.1.0",
            "model_name": "LayoutModel",
            "state": {}
          },
          "3174a215f43240c981b2d22bb03027eb": {
            "model_module": "@jupyter-widgets/base",
            "model_module_version": "1.1.0",
            "model_name": "LayoutModel",
            "state": {}
          },
          "39b2efeb90f54537973fa2a7856e3aa1": {
            "model_module": "@jupyter-widgets/controls",
            "model_module_version": "1.4.0",
            "model_name": "TabModel",
            "state": {
              "_titles": {
                "0": "Metadata",
                "1": "Log"
              },
              "children": [
                "IPY_MODEL_6b1d15cf3d8a4bc6a9ad464149797cd2",
                "IPY_MODEL_431c7be5f22b45179457f5670cb92c71"
              ],
              "layout": "IPY_MODEL_12b819a1e24a44ecb8770cbdacbbf0c6",
              "selected_index": 1
            }
          },
          "39c49a4f9671449ab89f4e2bd6669755": {
            "model_module": "@jupyter-widgets/controls",
            "model_module_version": "1.4.0",
            "model_name": "HTMLModel",
            "state": {
              "layout": "IPY_MODEL_e3f8e4f873d844318fb3ab68208c0876",
              "style": "IPY_MODEL_5cf6ef4777d54a99a983b95eecd7a469",
              "value": "<h3>Experiment 2019_07_04_22_49_53_6007a857</h3>"
            }
          },
          "431c7be5f22b45179457f5670cb92c71": {
            "model_module": "@jupyter-widgets/output",
            "model_module_version": "1.0.0",
            "model_name": "OutputModel",
            "state": {
              "layout": "IPY_MODEL_3174a215f43240c981b2d22bb03027eb",
              "outputs": [{
                "name": "stdout",
                "output_type": "stream",
                "text": "(00.001s) ✅ Experiment 2019_07_04_22_49_53_6007a857 started at 2019-07-05 02:49:53.773905 UTC\n(00.005s) ℹ️ Simulating: {'rate': '1 mL/min'} on Pump pump_2 at 0s\n(00.010s) ℹ️ Simulating: {'rate': '1 mL/min'} on Pump pump_1 at 0s\n(15.009s) ℹ️ Simulating: {'rate': '0 mL/min'} on Pump pump_2 at 15s\n(15.012s) ℹ️ Simulating: {'rate': '0 mL/min'} on Pump pump_1 at 15s\n(15.015s) ✅ Experiment 2019_07_04_22_49_53_6007a857 completed at 2019-07-05 02:50:08.787435 UTC\n"
              }]
            }
          },
          "5cf6ef4777d54a99a983b95eecd7a469": {
            "model_module": "@jupyter-widgets/controls",
            "model_module_version": "1.4.0",
            "model_name": "DescriptionStyleModel",
            "state": {
              "description_width": ""
            }
          },
          "6b1d15cf3d8a4bc6a9ad464149797cd2": {
            "model_module": "@jupyter-widgets/controls",
            "model_module_version": "1.4.0",
            "model_name": "HTMLModel",
            "state": {
              "layout": "IPY_MODEL_a3c06217f350437994ea5272878a88ee",
              "style": "IPY_MODEL_04b8bab6a626482185fd19d0d3e08f37",
              "value": "<ul><li>Protocol name: acetaminophen synthesis</li><li>Start time: None</li></ul>"
            }
          },
          "81604cf768d248c48f53346b74d6d17a": {
            "model_module": "@jupyter-widgets/base",
            "model_module_version": "1.1.0",
            "model_name": "LayoutModel",
            "state": {}
          },
          "a3c06217f350437994ea5272878a88ee": {
            "model_module": "@jupyter-widgets/base",
            "model_module_version": "1.1.0",
            "model_name": "LayoutModel",
            "state": {}
          },
          "ae4efc194fad4ae1a40d95cbe31ba12a": {
            "model_module": "@jupyter-widgets/controls",
            "model_module_version": "1.4.0",
            "model_name": "VBoxModel",
            "state": {
              "children": [
                "IPY_MODEL_39c49a4f9671449ab89f4e2bd6669755",
                "IPY_MODEL_39b2efeb90f54537973fa2a7856e3aa1"
              ],
              "layout": "IPY_MODEL_81604cf768d248c48f53346b74d6d17a"
            }
          },
          "e3f8e4f873d844318fb3ab68208c0876": {
            "model_module": "@jupyter-widgets/base",
            "model_module_version": "1.1.0",
            "model_name": "LayoutModel",
            "state": {}
          }
        },
        "version_major": 2,
        "version_minor": 0
      }
    }
  },
  "nbformat": 4,
  "nbformat_minor": 2
}